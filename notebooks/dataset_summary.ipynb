{
 "cells": [
  {
   "cell_type": "code",
   "execution_count": 4,
   "metadata": {},
   "outputs": [],
   "source": [
    "import pandas as pd\n",
    "import numpy as np\n",
    "import sklearn.datasets as datasets\n",
    "from pathlib import Path\n",
    "\n",
    "def load_iris_dataset():\n",
    "    return datasets.load_iris(return_X_y=True)\n",
    "\n",
    "def calculateImbalanceRatio(y):\n",
    "    uniques_y = np.unique(y,return_counts=True)\n",
    "    return f'{uniques_y[1].max()/uniques_y[1].min():.2f}'\n",
    "\n",
    "def get_dataset_info(datasetPath, datasetName):\n",
    "\n",
    "    X_y_Bands = pd.read_csv(datasetPath , header=None).values\n",
    "    X = X_y_Bands[:,:-1]\n",
    "    y = X_y_Bands[:,-1]\n",
    "\n",
    "    return pd.DataFrame(\n",
    "        {\"DatasetName\":datasetName,\n",
    "            \"ClassUsed\": [np.unique(y).size],\n",
    "            \"ClassTotal\": [np.unique(y).size],\n",
    "            \"ObservationUsed\": [X.shape[0]],\n",
    "            \"ObservationTotal\": [X.shape[0]],\n",
    "            \"FeatureUsed\": [X.shape[1]],\n",
    "            \"FeatureTotal\": [X.shape[1]],\n",
    "            \"Imbalance Ratio\":calculateImbalanceRatio(y)\n",
    "        })\n",
    "\n",
    "def get_bands_dataset_info():\n",
    "\n",
    "    infoDf = get_dataset_info('../data/processed/Bands.csv', \"Cylinder Bands\")\n",
    "\n",
    "    infoDf.loc[0, ['ObservationTotal']] = [541]\n",
    "    infoDf.loc[0, ['FeatureTotal']] = [39]\n",
    "\n",
    "    return infoDf\n",
    "\n",
    "def get_glass_identification_dataset_info():\n",
    "\n",
    "    infoDf = get_dataset_info('../data/processed/GlassIdentification.csv', \"Glass Identification\")\n",
    "\n",
    "    infoDf.loc[0, ['ClassTotal']] = [7]\n",
    "    infoDf.loc[0, ['FeatureTotal']] = [10]\n",
    "\n",
    "    return infoDf\n",
    "\n",
    "\n",
    "def get_iris_dataset_info():\n",
    "    X, y = load_iris_dataset()\n",
    "\n",
    "    return pd.DataFrame(\n",
    "            {\"DatasetName\":\"Iris\",\n",
    "             \"ClassUsed\": [np.unique(y).size],\n",
    "             \"ClassTotal\": [np.unique(y).size],\n",
    "             \"ObservationUsed\": [np.shape(X)[0]],\n",
    "             \"ObservationTotal\": [np.shape(X)[0]],\n",
    "             \"FeatureUsed\": [np.shape(X)[1]],\n",
    "             \"FeatureTotal\": [np.shape(X)[1]],\n",
    "             \"Imbalance Ratio\":calculateImbalanceRatio(y)\n",
    "            })\n",
    "\n",
    "def createEmptySummaryDataSet():\n",
    "    return pd.DataFrame(columns=['DatasetName','ClassUsed','ClassTotal','ObservationUsed','ObservationTotal','FeatureUsed', 'FeatureTotal',\"Imbalance Ratio\"])\n",
    "\n",
    "def getNotElectricalDatasetsInfo():\n",
    "    summaryDatasets = createEmptySummaryDataSet()\n",
    "    summaryDatasets = pd.concat([summaryDatasets,get_iris_dataset_info()],ignore_index=True)\n",
    "    summaryDatasets = pd.concat([summaryDatasets,get_dataset_info('../data/processed/Sonar.csv', \"Sonar\")],ignore_index=True)\n",
    "    summaryDatasets = pd.concat([summaryDatasets,get_glass_identification_dataset_info()],ignore_index=True)\n",
    "    summaryDatasets = pd.concat([summaryDatasets,get_dataset_info('../data/processed/LibrasMovement.csv', \"Libras Movement\")],ignore_index=True)\n",
    "    summaryDatasets = pd.concat([summaryDatasets,get_bands_dataset_info()],ignore_index=True)\n",
    "    return summaryDatasets\n",
    "\n",
    "def getElectricalDatasetsInfo():\n",
    "    summaryDatasets = createEmptySummaryDataSet()\n",
    "    summaryDatasets = pd.concat([summaryDatasets,get_dataset_info('../data/processed/ElectricalFaultClassification.csv', \"Electrical Fault Classification\")],ignore_index=True)\n",
    "    summaryDatasets = pd.concat([summaryDatasets,get_dataset_info('../data/processed/ElectricalGridStability.csv', \"Electrical Grid Stability\")],ignore_index=True)\n",
    "    summaryDatasets = pd.concat([summaryDatasets,get_dataset_info('../data/processed/ElectricalFaultDetection.csv', \"Electrical Fault Detection\")],ignore_index=True)\n",
    "    return summaryDatasets\n"
   ]
  },
  {
   "cell_type": "code",
   "execution_count": 5,
   "metadata": {},
   "outputs": [],
   "source": [
    "def main():\n",
    "\n",
    "    summaryDatasets = createEmptySummaryDataSet()\n",
    "\n",
    "    summaryDfNotElectrical = getNotElectricalDatasetsInfo()\n",
    "    summaryDfElectrical = getElectricalDatasetsInfo()\n",
    "\n",
    "    summaryDatasets = pd.concat([summaryDatasets,summaryDfNotElectrical],ignore_index=True)\n",
    "    summaryDatasets = pd.concat([summaryDatasets,summaryDfElectrical],ignore_index=True)\n",
    "\n",
    "    print(summaryDatasets.to_latex(index=False, escape=False))"
   ]
  },
  {
   "cell_type": "code",
   "execution_count": 6,
   "metadata": {},
   "outputs": [
    {
     "name": "stdout",
     "output_type": "stream",
     "text": [
      "\\begin{tabular}{llllllll}\n",
      "\\toprule\n",
      "                    DatasetName & ClassUsed & ClassTotal & ObservationUsed & ObservationTotal & FeatureUsed & FeatureTotal & Imbalance Ratio \\\\\n",
      "\\midrule\n",
      "                           Iris &         3 &          3 &             150 &              150 &           4 &            4 &            1.00 \\\\\n",
      "                          Sonar &         2 &          2 &             208 &              208 &          60 &           60 &            1.14 \\\\\n",
      "           Glass Identification &         6 &          7 &             214 &              214 &           9 &           10 &            8.44 \\\\\n",
      "                Libras Movement &        15 &         15 &             360 &              360 &          90 &           90 &            1.00 \\\\\n",
      "                 Cylinder Bands &         2 &          2 &             365 &              541 &          18 &           39 &            1.70 \\\\\n",
      "Electrical Fault Classification &         6 &          6 &            7861 &             7861 &           6 &            6 &            2.36 \\\\\n",
      "      Electrical Grid Stability &         2 &          2 &           10000 &            10000 &          12 &           12 &            1.76 \\\\\n",
      "     Electrical Fault Detection &         2 &          2 &           12001 &            12001 &           6 &            6 &            1.18 \\\\\n",
      "\\bottomrule\n",
      "\\end{tabular}\n",
      "\n"
     ]
    },
    {
     "name": "stderr",
     "output_type": "stream",
     "text": [
      "/tmp/ipykernel_1115964/2258587431.py:11: FutureWarning: In future versions `DataFrame.to_latex` is expected to utilise the base implementation of `Styler.to_latex` for formatting and rendering. The arguments signature may therefore change. It is recommended instead to use `DataFrame.style.to_latex` which also contains additional functionality.\n",
      "  print(summaryDatasets.to_latex(index=False, escape=False))\n"
     ]
    }
   ],
   "source": [
    "main()"
   ]
  }
 ],
 "metadata": {
  "kernelspec": {
   "display_name": "fsp-gpu",
   "language": "python",
   "name": "python3"
  },
  "language_info": {
   "codemirror_mode": {
    "name": "ipython",
    "version": 3
   },
   "file_extension": ".py",
   "mimetype": "text/x-python",
   "name": "python",
   "nbconvert_exporter": "python",
   "pygments_lexer": "ipython3",
   "version": "3.10.14"
  }
 },
 "nbformat": 4,
 "nbformat_minor": 2
}
